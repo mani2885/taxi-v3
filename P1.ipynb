{
  "nbformat": 4,
  "nbformat_minor": 0,
  "metadata": {
    "kernelspec": {
      "display_name": "Python 3",
      "language": "python",
      "name": "python3"
    },
    "language_info": {
      "codemirror_mode": {
        "name": "ipython",
        "version": 3
      },
      "file_extension": ".py",
      "mimetype": "text/x-python",
      "name": "python",
      "nbconvert_exporter": "python",
      "pygments_lexer": "ipython3",
      "version": "3.6.8"
    },
    "colab": {
      "name": "P1.ipynb",
      "provenance": [],
      "collapsed_sections": [],
      "toc_visible": true
    }
  },
  "cells": [
    {
      "cell_type": "markdown",
      "metadata": {
        "id": "pkKNAPoZqp_3"
      },
      "source": [
        "# P1: Solve the OpenAI Gym [Taxi V3](https://gym.openai.com/envs/Taxi-v3/) Environment\n",
        "---"
      ]
    },
    {
      "cell_type": "markdown",
      "metadata": {
        "id": "Jkp6kupMqp_8"
      },
      "source": [
        "## Introduction\n",
        "[OpenAI Gym](https://gym.openai.com/docs/) is a framework that provides RL environments of varying complexity with the same standard API making it easy to develop and benchmark RL algorithms. The [Taxi-V3](https://gym.openai.com/envs/Taxi-v3/) environmnet present a simple, text environment where actions and state (observations) are both discrete. "
      ]
    },
    {
      "cell_type": "code",
      "metadata": {
        "id": "Qn790jEVqp_-"
      },
      "source": [
        "import gym"
      ],
      "execution_count": 2,
      "outputs": []
    },
    {
      "cell_type": "markdown",
      "metadata": {
        "id": "w4x3bwCPqp__"
      },
      "source": [
        "The `gym.make()` API can be used to spawn any of the available environments by passing its full name."
      ]
    },
    {
      "cell_type": "code",
      "metadata": {
        "id": "PP_qR0egqqAA"
      },
      "source": [
        "taxi = gym.make('Taxi-v3')"
      ],
      "execution_count": 3,
      "outputs": []
    },
    {
      "cell_type": "markdown",
      "metadata": {
        "id": "RCiS5CUUqqAB"
      },
      "source": [
        "The Taxi environment has 500 states and 6 possible actions."
      ]
    },
    {
      "cell_type": "code",
      "metadata": {
        "id": "KGQOUJ3RqqAC",
        "colab": {
          "base_uri": "https://localhost:8080/"
        },
        "outputId": "cddd4a1e-c8d5-4eea-bc37-4dedb07f22fd"
      },
      "source": [
        "taxi.action_space"
      ],
      "execution_count": 4,
      "outputs": [
        {
          "output_type": "execute_result",
          "data": {
            "text/plain": [
              "Discrete(6)"
            ]
          },
          "metadata": {
            "tags": []
          },
          "execution_count": 4
        }
      ]
    },
    {
      "cell_type": "code",
      "metadata": {
        "id": "_6_guAKDqqAE",
        "colab": {
          "base_uri": "https://localhost:8080/"
        },
        "outputId": "7dd16497-68b0-44d8-e666-390496297401"
      },
      "source": [
        "taxi.observation_space"
      ],
      "execution_count": 5,
      "outputs": [
        {
          "output_type": "execute_result",
          "data": {
            "text/plain": [
              "Discrete(500)"
            ]
          },
          "metadata": {
            "tags": []
          },
          "execution_count": 5
        }
      ]
    },
    {
      "cell_type": "markdown",
      "metadata": {
        "id": "dl5EOOEWqqAF"
      },
      "source": [
        "The task and reward structure are described in the [documentation](https://github.com/openai/gym/blob/a5a6ae6bc0a5cfc0ff1ce9be723d59593c165022/gym/envs/toy_text/taxi.py#L25)"
      ]
    },
    {
      "cell_type": "code",
      "metadata": {
        "id": "7JxV_op1qqAG",
        "colab": {
          "base_uri": "https://localhost:8080/"
        },
        "outputId": "d5582aba-014b-44e4-cd4b-bed8aea53a77"
      },
      "source": [
        "taxi.reset()\n",
        "taxi.render()"
      ],
      "execution_count": 6,
      "outputs": [
        {
          "output_type": "stream",
          "text": [
            "+---------+\n",
            "|R: | : :G|\n",
            "| : | : : |\n",
            "| : : :\u001b[43m \u001b[0m: |\n",
            "| | : | : |\n",
            "|\u001b[34;1mY\u001b[0m| : |\u001b[35mB\u001b[0m: |\n",
            "+---------+\n",
            "\n"
          ],
          "name": "stdout"
        }
      ]
    },
    {
      "cell_type": "markdown",
      "metadata": {
        "id": "yuYQcryQqqAH"
      },
      "source": [
        "## Submission\n",
        "- Submit your solution as a Jupyter notebook. \n",
        "- Ensure that all cells in the notebook have been executed and the output is showing\n",
        "- Ensure that your solution consistently reaches the average cumulative reward defined in the rubric (link below)\n",
        "- Post your solution on Github and share the link to your commit as a direct message in Slack"
      ]
    },
    {
      "cell_type": "code",
      "metadata": {
        "colab": {
          "base_uri": "https://localhost:8080/",
          "height": 1000
        },
        "id": "bfS6ZXWl0rpx",
        "outputId": "e7ad4611-676f-4805-8827-1b2067b7f13d"
      },
      "source": [
        "import numpy as np\n",
        "import random\n",
        "import matplotlib.pyplot as plt\n",
        "\n",
        "DEBUG = True\n",
        "def run_model(method='qlearning'):\n",
        "  print('Model Chosen: ' + method)\n",
        "  alpha = 0.7\n",
        "  gamma = .95\n",
        "  nepisodes = 10000\n",
        "  epsilon = 0.99\n",
        "  max_epsilon = 1.0\n",
        "  min_epsilon = 0.0\n",
        "  decay_rate = .01\n",
        "\n",
        "  nstate = taxi.observation_space.n\n",
        "  nactions = taxi.action_space.n\n",
        "  Q = np.zeros([nstate, nactions])\n",
        "  \n",
        "  pi = np.zeros_like(Q)\n",
        "  for r in range(0,np.shape(pi)[0]):\n",
        "    for c in range(0,np.shape(pi)[1]):\n",
        "      pi[r,c] = 1/nactions\n",
        "  \n",
        "  reward_tracking = []\n",
        "  random_tracking = []\n",
        "  penality_tracking = []\n",
        "  for episode in range(0, nepisodes+1):\n",
        "    state = taxi.reset()\n",
        "    total_reward = 0\n",
        "    done = False\n",
        "    random_ = 0\n",
        "    penality_ = 0\n",
        "    \n",
        "    while done != True:\n",
        "      action = np.argmax(np.cumsum(pi[state,:]) > np.random.random())\n",
        "      if action != np.argmax(Q[state]):\n",
        "        random_ += 1\n",
        "      \n",
        "      next_state, reward, done, info = taxi.step(action)\n",
        "\n",
        "      if method == 'qlearning':\n",
        "        Q[state, action] = (1-alpha) * Q[state, action] \\\n",
        "                            + alpha*(reward + gamma*np.max(Q[next_state]))\n",
        "      elif method == 'sarsa':\n",
        "        next_action = np.argmax(np.cumsum(pi[next_state,:]) > np.random.random())\n",
        "        Q[state, action] = (1-alpha) * Q[state, action] \\\n",
        "                            + alpha*(reward + gamma*Q[next_state, next_action])\n",
        "      elif method == 'expected_sarsa':\n",
        "        Q[state, action] = (1-alpha) * Q[state, action] \\\n",
        "                            + alpha*(reward \\\n",
        "                            + gamma*np.dot(Q[next_state, :], pi[next_state, :]))\n",
        "        \n",
        "      # update pi\n",
        "      best_action = np.random.choice(np.where(Q[state] == np.max(Q[state]))[0])\n",
        "      for a in range(0, nactions):\n",
        "        if a == best_action:\n",
        "          pi[state, a] = 1 - (nactions-1)*(epsilon/nactions)\n",
        "        else:\n",
        "          pi[state, a] = (epsilon/nactions)\n",
        "\n",
        "      if reward == -10:\n",
        "        penality_ += -10\n",
        "      total_reward += reward\n",
        "      state = next_state\n",
        "\n",
        "    reward_tracking.append(total_reward)\n",
        "    if penality_  != 0:\n",
        "      penality_tracking.append(penality_)\n",
        "    #epsilon *= epsilon\n",
        "    if random_ > 0:\n",
        "      random_tracking.append(random_)\n",
        "    epsilon = min_epsilon \\\n",
        "              + (max_epsilon - min_epsilon)*np.exp(-decay_rate*episode)\n",
        "    #gamma = 0.95*gamma\n",
        "    \n",
        "\n",
        "  avg_reward = np.convolve(reward_tracking, np.ones(100)/100, mode='valid')\n",
        "  if DEBUG:\n",
        "    plt.plot(range(0,len(reward_tracking[:])), reward_tracking[:], 'o')\n",
        "    plt.xlabel('episode#')\n",
        "    plt.ylabel('reward in all episodes')\n",
        "    plt.show()\n",
        "\n",
        "    plt.plot(range(0,len(avg_reward[:])), avg_reward[:], 'x')\n",
        "    plt.xlabel('episode#')\n",
        "    plt.ylabel('avg_reward in all episodes')\n",
        "    plt.show()\n",
        "\n",
        "    plt.plot(range(0,len(avg_reward))[-1000:], avg_reward[-1000:], '+')\n",
        "    plt.xlabel('episode#')\n",
        "    plt.ylabel('avg_reward in last 1000 episodes')\n",
        "    plt.show()\n",
        "\n",
        "    plt.plot(range(0,len(random_tracking[:])), random_tracking[:], 'o')\n",
        "    plt.xlabel('episode#')\n",
        "    plt.ylabel('count of random choice')\n",
        "    plt.show()\n",
        "\n",
        "    plt.plot(range(0,len(penality_tracking[:])), penality_tracking[:], 'o')\n",
        "    plt.xlabel('episode#')\n",
        "    plt.ylabel('total penality')\n",
        "    plt.show()\n",
        "\n",
        "\n",
        "    print('5th percentile: %.2f %r\\n' \\\n",
        "          % (np.percentile(avg_reward[-1000:], 5), \\\n",
        "             np.percentile(avg_reward[-1000:], 5) > 7.2))\n",
        "    print('95th percentile: %.2f %r\\n' \\\n",
        "          % (np.percentile(avg_reward[-1000:], 95), \\\n",
        "             np.percentile(avg_reward[-1000:], 95) > 8.2))\n",
        "\n",
        "  return Q, ((np.percentile(avg_reward[-1000:], 5) > 7.2) \\\n",
        "             and (np.percentile(avg_reward[-1000:], 95) > 8.2))\n",
        "\n",
        "vec = []\n",
        "for k in range(0, 1):\n",
        "  Q, result = run_model('expected_sarsa')\n",
        "  vec.append(result)\n",
        "  \n",
        "  state = taxi.reset()\n",
        "  done = None\n",
        "  taxi.render()\n",
        "  while done != True:\n",
        "    action = np.argmax(Q[state])\n",
        "    state, reward, done, info = taxi.step(action)\n",
        "    taxi.render()\n",
        "\n",
        "print('Pass percentage: %0.2f\\n' % (sum(vec)//len(vec)*100))\n",
        "\n"
      ],
      "execution_count": 8,
      "outputs": [
        {
          "output_type": "stream",
          "text": [
            "Model Chosen: expected_sarsa\n"
          ],
          "name": "stdout"
        },
        {
          "output_type": "display_data",
          "data": {
            "image/png": "[encoded data removed]",
            "text/plain": [
              "<Figure size 432x288 with 1 Axes>"
            ]
          },
          "metadata": {
            "tags": [],
            "needs_background": "light"
          }
        },
        {
          "output_type": "display_data",
          "data": {
            "image/png": "[encoded data removed]",
            "text/plain": [
              "<Figure size 432x288 with 1 Axes>"
            ]
          },
          "metadata": {
            "tags": [],
            "needs_background": "light"
          }
        },
        {
          "output_type": "display_data",
          "data": {
            "image/png": "[encoded data removed]",
            "text/plain": [
              "<Figure size 432x288 with 1 Axes>"
            ]
          },
          "metadata": {
            "tags": [],
            "needs_background": "light"
          }
        },
        {
          "output_type": "display_data",
          "data": {
            "image/png": "[encoded data removed]",
            "text/plain": [
              "<Figure size 432x288 with 1 Axes>"
            ]
          },
          "metadata": {
            "tags": [],
            "needs_background": "light"
          }
        },
        {
          "output_type": "display_data",
          "data": {
            "image/png": "[encoded data removed]",
            "text/plain": [
              "<Figure size 432x288 with 1 Axes>"
            ]
          },
          "metadata": {
            "tags": [],
            "needs_background": "light"
          }
        },
        {
          "output_type": "stream",
          "text": [
            "5th percentile: 7.64 True\n",
            "\n",
            "95th percentile: 8.24 True\n",
            "\n",
            "+---------+\n",
            "|R: | : :\u001b[34;1mG\u001b[0m|\n",
            "| : | : : |\n",
            "| : : : : |\n",
            "| |\u001b[43m \u001b[0m: | : |\n",
            "|Y| : |\u001b[35mB\u001b[0m: |\n",
            "+---------+\n",
            "\n",
            "+---------+\n",
            "|R: | : :\u001b[34;1mG\u001b[0m|\n",
            "| : | : : |\n",
            "| : : : : |\n",
            "| | :\u001b[43m \u001b[0m| : |\n",
            "|Y| : |\u001b[35mB\u001b[0m: |\n",
            "+---------+\n",
            "  (East)\n",
            "+---------+\n",
            "|R: | : :\u001b[34;1mG\u001b[0m|\n",
            "| : | : : |\n",
            "| : :\u001b[43m \u001b[0m: : |\n",
            "| | : | : |\n",
            "|Y| : |\u001b[35mB\u001b[0m: |\n",
            "+---------+\n",
            "  (North)\n",
            "+---------+\n",
            "|R: | : :\u001b[34;1mG\u001b[0m|\n",
            "| : |\u001b[43m \u001b[0m: : |\n",
            "| : : : : |\n",
            "| | : | : |\n",
            "|Y| : |\u001b[35mB\u001b[0m: |\n",
            "+---------+\n",
            "  (North)\n",
            "+---------+\n",
            "|R: | : :\u001b[34;1mG\u001b[0m|\n",
            "| : | :\u001b[43m \u001b[0m: |\n",
            "| : : : : |\n",
            "| | : | : |\n",
            "|Y| : |\u001b[35mB\u001b[0m: |\n",
            "+---------+\n",
            "  (East)\n",
            "+---------+\n",
            "|R: | : :\u001b[34;1mG\u001b[0m|\n",
            "| : | : :\u001b[43m \u001b[0m|\n",
            "| : : : : |\n",
            "| | : | : |\n",
            "|Y| : |\u001b[35mB\u001b[0m: |\n",
            "+---------+\n",
            "  (East)\n",
            "+---------+\n",
            "|R: | : :\u001b[34;1m\u001b[43mG\u001b[0m\u001b[0m|\n",
            "| : | : : |\n",
            "| : : : : |\n",
            "| | : | : |\n",
            "|Y| : |\u001b[35mB\u001b[0m: |\n",
            "+---------+\n",
            "  (North)\n",
            "+---------+\n",
            "|R: | : :\u001b[42mG\u001b[0m|\n",
            "| : | : : |\n",
            "| : : : : |\n",
            "| | : | : |\n",
            "|Y| : |\u001b[35mB\u001b[0m: |\n",
            "+---------+\n",
            "  (Pickup)\n",
            "+---------+\n",
            "|R: | : :G|\n",
            "| : | : :\u001b[42m_\u001b[0m|\n",
            "| : : : : |\n",
            "| | : | : |\n",
            "|Y| : |\u001b[35mB\u001b[0m: |\n",
            "+---------+\n",
            "  (South)\n",
            "+---------+\n",
            "|R: | : :G|\n",
            "| : | : : |\n",
            "| : : : :\u001b[42m_\u001b[0m|\n",
            "| | : | : |\n",
            "|Y| : |\u001b[35mB\u001b[0m: |\n",
            "+---------+\n",
            "  (South)\n",
            "+---------+\n",
            "|R: | : :G|\n",
            "| : | : : |\n",
            "| : : : : |\n",
            "| | : | :\u001b[42m_\u001b[0m|\n",
            "|Y| : |\u001b[35mB\u001b[0m: |\n",
            "+---------+\n",
            "  (South)\n",
            "+---------+\n",
            "|R: | : :G|\n",
            "| : | : : |\n",
            "| : : : : |\n",
            "| | : |\u001b[42m_\u001b[0m: |\n",
            "|Y| : |\u001b[35mB\u001b[0m: |\n",
            "+---------+\n",
            "  (West)\n",
            "+---------+\n",
            "|R: | : :G|\n",
            "| : | : : |\n",
            "| : : : : |\n",
            "| | : | : |\n",
            "|Y| : |\u001b[35m\u001b[42mB\u001b[0m\u001b[0m: |\n",
            "+---------+\n",
            "  (South)\n",
            "+---------+\n",
            "|R: | : :G|\n",
            "| : | : : |\n",
            "| : : : : |\n",
            "| | : | : |\n",
            "|Y| : |\u001b[35m\u001b[34;1m\u001b[43mB\u001b[0m\u001b[0m\u001b[0m: |\n",
            "+---------+\n",
            "  (Dropoff)\n",
            "Pass percentage: 100.00\n",
            "\n"
          ],
          "name": "stdout"
        }
      ]
    },
    {
      "cell_type": "markdown",
      "metadata": {
        "id": "8hwvWSjOqqAI"
      },
      "source": [
        "## Evaluation\n",
        "The goal of the project is to get a certain average (cumulative) reward over 100 episodes. To pass the project, you must meet all the requirments in the project [rubric](https://github.com/KnowchowHQ/rl-in-action/blob/master/C1-RL-Intro/W3OH/P1-rubric.md)"
      ]
    }
  ]
}